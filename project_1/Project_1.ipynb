{
 "cells": [
  {
   "cell_type": "markdown",
   "id": "58a3e746",
   "metadata": {},
   "source": [
    "# Project 1 Analysis"
   ]
  },
  {
   "cell_type": "markdown",
   "id": "c2ac4b89",
   "metadata": {},
   "source": [
    "### For this project, we were tasked to answer two main questions.\n",
    "1-What are the 5 most popular trips that you would call commuter trips?\\\n",
    "2-What are your recommendations for offers (justify based on your findings)?"
   ]
  },
  {
   "cell_type": "markdown",
   "id": "d3981929",
   "metadata": {},
   "source": [
    "## First Part"
   ]
  },
  {
   "cell_type": "markdown",
   "id": "e509f8f7",
   "metadata": {},
   "source": [
    "First of all, I needed to get a sense of how many stations are there in each city in our database. "
   ]
  },
  {
   "cell_type": "code",
   "execution_count": 1,
   "id": "19173645",
   "metadata": {},
   "outputs": [],
   "source": [
    "import numpy as np\n",
    "import pandas as pd\n",
    "import matplotlib.pyplot as plt\n",
    "import seaborn as sns\n",
    "\n",
    "%matplotlib inline"
   ]
  },
  {
   "cell_type": "code",
   "execution_count": 2,
   "id": "b29efa14",
   "metadata": {},
   "outputs": [
    {
     "name": "stderr",
     "output_type": "stream",
     "text": [
      "Query complete after 0.00s: 100%|██████████| 1/1 [00:00<00:00, 1069.98query/s]\n",
      "Downloading: 100%|██████████| 5/5 [00:01<00:00,  3.63rows/s]\n"
     ]
    },
    {
     "data": {
      "text/html": [
       "<div>\n",
       "<style scoped>\n",
       "    .dataframe tbody tr th:only-of-type {\n",
       "        vertical-align: middle;\n",
       "    }\n",
       "\n",
       "    .dataframe tbody tr th {\n",
       "        vertical-align: top;\n",
       "    }\n",
       "\n",
       "    .dataframe thead th {\n",
       "        text-align: right;\n",
       "    }\n",
       "</style>\n",
       "<table border=\"1\" class=\"dataframe\">\n",
       "  <thead>\n",
       "    <tr style=\"text-align: right;\">\n",
       "      <th></th>\n",
       "      <th>number_of_stations</th>\n",
       "      <th>City</th>\n",
       "    </tr>\n",
       "  </thead>\n",
       "  <tbody>\n",
       "    <tr>\n",
       "      <th>0</th>\n",
       "      <td>37</td>\n",
       "      <td>San Francisco</td>\n",
       "    </tr>\n",
       "    <tr>\n",
       "      <th>1</th>\n",
       "      <td>18</td>\n",
       "      <td>San Jose</td>\n",
       "    </tr>\n",
       "    <tr>\n",
       "      <th>2</th>\n",
       "      <td>7</td>\n",
       "      <td>Mountain View</td>\n",
       "    </tr>\n",
       "    <tr>\n",
       "      <th>3</th>\n",
       "      <td>7</td>\n",
       "      <td>Redwood City</td>\n",
       "    </tr>\n",
       "    <tr>\n",
       "      <th>4</th>\n",
       "      <td>5</td>\n",
       "      <td>Palo Alto</td>\n",
       "    </tr>\n",
       "  </tbody>\n",
       "</table>\n",
       "</div>"
      ],
      "text/plain": [
       "   number_of_stations           City\n",
       "0                  37  San Francisco\n",
       "1                  18       San Jose\n",
       "2                   7  Mountain View\n",
       "3                   7   Redwood City\n",
       "4                   5      Palo Alto"
      ]
     },
     "execution_count": 2,
     "metadata": {},
     "output_type": "execute_result"
    }
   ],
   "source": [
    "%%bigquery\n",
    "SELECT count(name) AS number_of_stations, landmark AS City \n",
    "FROM `bigquery-public-data`.san_francisco.bikeshare_stations\n",
    "GROUP BY City\n",
    "ORDER BY number_of_stations DESC "
   ]
  },
  {
   "cell_type": "markdown",
   "id": "2f428277",
   "metadata": {},
   "source": [
    "We can see that San Francisco has the most number of stations, followed by San Jose and so on. "
   ]
  },
  {
   "cell_type": "markdown",
   "id": "dc0f06ee",
   "metadata": {},
   "source": [
    "Next, I wanted to see what are the total number of trips for each station pair. How does it look like during weekdays vs weekends? I found the following.  "
   ]
  },
  {
   "cell_type": "code",
   "execution_count": 3,
   "id": "f7623c39",
   "metadata": {},
   "outputs": [
    {
     "name": "stderr",
     "output_type": "stream",
     "text": [
      "Query complete after 0.00s: 100%|██████████| 1/1 [00:00<00:00, 868.21query/s] \n",
      "Downloading: 100%|██████████| 10/10 [00:01<00:00,  7.21rows/s]\n"
     ]
    },
    {
     "data": {
      "text/html": [
       "<div>\n",
       "<style scoped>\n",
       "    .dataframe tbody tr th:only-of-type {\n",
       "        vertical-align: middle;\n",
       "    }\n",
       "\n",
       "    .dataframe tbody tr th {\n",
       "        vertical-align: top;\n",
       "    }\n",
       "\n",
       "    .dataframe thead th {\n",
       "        text-align: right;\n",
       "    }\n",
       "</style>\n",
       "<table border=\"1\" class=\"dataframe\">\n",
       "  <thead>\n",
       "    <tr style=\"text-align: right;\">\n",
       "      <th></th>\n",
       "      <th>start_station_name</th>\n",
       "      <th>end_station_name</th>\n",
       "      <th>no_of_trips</th>\n",
       "    </tr>\n",
       "  </thead>\n",
       "  <tbody>\n",
       "    <tr>\n",
       "      <th>0</th>\n",
       "      <td>Harry Bridges Plaza (Ferry Building)</td>\n",
       "      <td>Embarcadero at Sansome</td>\n",
       "      <td>9150</td>\n",
       "    </tr>\n",
       "    <tr>\n",
       "      <th>1</th>\n",
       "      <td>San Francisco Caltrain 2 (330 Townsend)</td>\n",
       "      <td>Townsend at 7th</td>\n",
       "      <td>8508</td>\n",
       "    </tr>\n",
       "    <tr>\n",
       "      <th>2</th>\n",
       "      <td>2nd at Townsend</td>\n",
       "      <td>Harry Bridges Plaza (Ferry Building)</td>\n",
       "      <td>7620</td>\n",
       "    </tr>\n",
       "    <tr>\n",
       "      <th>3</th>\n",
       "      <td>Harry Bridges Plaza (Ferry Building)</td>\n",
       "      <td>2nd at Townsend</td>\n",
       "      <td>6888</td>\n",
       "    </tr>\n",
       "    <tr>\n",
       "      <th>4</th>\n",
       "      <td>Embarcadero at Sansome</td>\n",
       "      <td>Steuart at Market</td>\n",
       "      <td>6874</td>\n",
       "    </tr>\n",
       "    <tr>\n",
       "      <th>5</th>\n",
       "      <td>Townsend at 7th</td>\n",
       "      <td>San Francisco Caltrain 2 (330 Townsend)</td>\n",
       "      <td>6836</td>\n",
       "    </tr>\n",
       "    <tr>\n",
       "      <th>6</th>\n",
       "      <td>Embarcadero at Folsom</td>\n",
       "      <td>San Francisco Caltrain (Townsend at 4th)</td>\n",
       "      <td>6351</td>\n",
       "    </tr>\n",
       "    <tr>\n",
       "      <th>7</th>\n",
       "      <td>San Francisco Caltrain (Townsend at 4th)</td>\n",
       "      <td>Harry Bridges Plaza (Ferry Building)</td>\n",
       "      <td>6215</td>\n",
       "    </tr>\n",
       "    <tr>\n",
       "      <th>8</th>\n",
       "      <td>Steuart at Market</td>\n",
       "      <td>2nd at Townsend</td>\n",
       "      <td>6039</td>\n",
       "    </tr>\n",
       "    <tr>\n",
       "      <th>9</th>\n",
       "      <td>Steuart at Market</td>\n",
       "      <td>San Francisco Caltrain (Townsend at 4th)</td>\n",
       "      <td>5959</td>\n",
       "    </tr>\n",
       "  </tbody>\n",
       "</table>\n",
       "</div>"
      ],
      "text/plain": [
       "                         start_station_name  \\\n",
       "0      Harry Bridges Plaza (Ferry Building)   \n",
       "1   San Francisco Caltrain 2 (330 Townsend)   \n",
       "2                           2nd at Townsend   \n",
       "3      Harry Bridges Plaza (Ferry Building)   \n",
       "4                    Embarcadero at Sansome   \n",
       "5                           Townsend at 7th   \n",
       "6                     Embarcadero at Folsom   \n",
       "7  San Francisco Caltrain (Townsend at 4th)   \n",
       "8                         Steuart at Market   \n",
       "9                         Steuart at Market   \n",
       "\n",
       "                           end_station_name  no_of_trips  \n",
       "0                    Embarcadero at Sansome         9150  \n",
       "1                           Townsend at 7th         8508  \n",
       "2      Harry Bridges Plaza (Ferry Building)         7620  \n",
       "3                           2nd at Townsend         6888  \n",
       "4                         Steuart at Market         6874  \n",
       "5   San Francisco Caltrain 2 (330 Townsend)         6836  \n",
       "6  San Francisco Caltrain (Townsend at 4th)         6351  \n",
       "7      Harry Bridges Plaza (Ferry Building)         6215  \n",
       "8                           2nd at Townsend         6039  \n",
       "9  San Francisco Caltrain (Townsend at 4th)         5959  "
      ]
     },
     "execution_count": 3,
     "metadata": {},
     "output_type": "execute_result"
    }
   ],
   "source": [
    "%%bigquery \n",
    "SELECT start_station_name, end_station_name, count(*) as no_of_trips \n",
    "FROM `bigquery-public-data`.san_francisco.bikeshare_trips\n",
    "GROUP BY start_station_name, end_station_name \n",
    "ORDER BY no_of_trips DESC \n",
    "LIMIT 10;\n",
    "\n",
    "#Total number of trips between stations pairs."
   ]
  },
  {
   "cell_type": "code",
   "execution_count": 4,
   "id": "5434c6f4",
   "metadata": {},
   "outputs": [
    {
     "name": "stderr",
     "output_type": "stream",
     "text": [
      "Query complete after 0.00s: 100%|██████████| 1/1 [00:00<00:00, 971.58query/s] \n",
      "Downloading: 100%|██████████| 10/10 [00:01<00:00,  8.56rows/s]\n"
     ]
    }
   ],
   "source": [
    "%%bigquery station_pairs_weekdays\n",
    "SELECT start_station_name, end_station_name, count(*) as no_of_trips \n",
    "FROM `bigquery-public-data`.san_francisco.bikeshare_trips\n",
    "WHERE EXTRACT(DAYOFWEEK FROM start_date) NOT IN (1, 7) \n",
    "GROUP BY start_station_name, end_station_name \n",
    "ORDER BY no_of_trips DESC \n",
    "LIMIT 10;\n",
    "\n",
    "#Total number of trips between stations pairs during WEEKDAYS\n"
   ]
  },
  {
   "cell_type": "code",
   "execution_count": 5,
   "id": "835712cb",
   "metadata": {},
   "outputs": [
    {
     "data": {
      "text/html": [
       "<div>\n",
       "<style scoped>\n",
       "    .dataframe tbody tr th:only-of-type {\n",
       "        vertical-align: middle;\n",
       "    }\n",
       "\n",
       "    .dataframe tbody tr th {\n",
       "        vertical-align: top;\n",
       "    }\n",
       "\n",
       "    .dataframe thead th {\n",
       "        text-align: right;\n",
       "    }\n",
       "</style>\n",
       "<table border=\"1\" class=\"dataframe\">\n",
       "  <thead>\n",
       "    <tr style=\"text-align: right;\">\n",
       "      <th></th>\n",
       "      <th>start_station_name</th>\n",
       "      <th>end_station_name</th>\n",
       "      <th>no_of_trips</th>\n",
       "    </tr>\n",
       "  </thead>\n",
       "  <tbody>\n",
       "    <tr>\n",
       "      <th>0</th>\n",
       "      <td>San Francisco Caltrain 2 (330 Townsend)</td>\n",
       "      <td>Townsend at 7th</td>\n",
       "      <td>8048</td>\n",
       "    </tr>\n",
       "    <tr>\n",
       "      <th>1</th>\n",
       "      <td>Harry Bridges Plaza (Ferry Building)</td>\n",
       "      <td>Embarcadero at Sansome</td>\n",
       "      <td>7072</td>\n",
       "    </tr>\n",
       "    <tr>\n",
       "      <th>2</th>\n",
       "      <td>2nd at Townsend</td>\n",
       "      <td>Harry Bridges Plaza (Ferry Building)</td>\n",
       "      <td>7043</td>\n",
       "    </tr>\n",
       "    <tr>\n",
       "      <th>3</th>\n",
       "      <td>Townsend at 7th</td>\n",
       "      <td>San Francisco Caltrain 2 (330 Townsend)</td>\n",
       "      <td>6471</td>\n",
       "    </tr>\n",
       "    <tr>\n",
       "      <th>4</th>\n",
       "      <td>Embarcadero at Sansome</td>\n",
       "      <td>Steuart at Market</td>\n",
       "      <td>6419</td>\n",
       "    </tr>\n",
       "    <tr>\n",
       "      <th>5</th>\n",
       "      <td>Harry Bridges Plaza (Ferry Building)</td>\n",
       "      <td>2nd at Townsend</td>\n",
       "      <td>6378</td>\n",
       "    </tr>\n",
       "    <tr>\n",
       "      <th>6</th>\n",
       "      <td>Embarcadero at Folsom</td>\n",
       "      <td>San Francisco Caltrain (Townsend at 4th)</td>\n",
       "      <td>6158</td>\n",
       "    </tr>\n",
       "    <tr>\n",
       "      <th>7</th>\n",
       "      <td>Steuart at Market</td>\n",
       "      <td>2nd at Townsend</td>\n",
       "      <td>5794</td>\n",
       "    </tr>\n",
       "    <tr>\n",
       "      <th>8</th>\n",
       "      <td>Steuart at Market</td>\n",
       "      <td>San Francisco Caltrain (Townsend at 4th)</td>\n",
       "      <td>5772</td>\n",
       "    </tr>\n",
       "    <tr>\n",
       "      <th>9</th>\n",
       "      <td>Temporary Transbay Terminal (Howard at Beale)</td>\n",
       "      <td>San Francisco Caltrain (Townsend at 4th)</td>\n",
       "      <td>5764</td>\n",
       "    </tr>\n",
       "  </tbody>\n",
       "</table>\n",
       "</div>"
      ],
      "text/plain": [
       "                              start_station_name  \\\n",
       "0        San Francisco Caltrain 2 (330 Townsend)   \n",
       "1           Harry Bridges Plaza (Ferry Building)   \n",
       "2                                2nd at Townsend   \n",
       "3                                Townsend at 7th   \n",
       "4                         Embarcadero at Sansome   \n",
       "5           Harry Bridges Plaza (Ferry Building)   \n",
       "6                          Embarcadero at Folsom   \n",
       "7                              Steuart at Market   \n",
       "8                              Steuart at Market   \n",
       "9  Temporary Transbay Terminal (Howard at Beale)   \n",
       "\n",
       "                           end_station_name  no_of_trips  \n",
       "0                           Townsend at 7th         8048  \n",
       "1                    Embarcadero at Sansome         7072  \n",
       "2      Harry Bridges Plaza (Ferry Building)         7043  \n",
       "3   San Francisco Caltrain 2 (330 Townsend)         6471  \n",
       "4                         Steuart at Market         6419  \n",
       "5                           2nd at Townsend         6378  \n",
       "6  San Francisco Caltrain (Townsend at 4th)         6158  \n",
       "7                           2nd at Townsend         5794  \n",
       "8  San Francisco Caltrain (Townsend at 4th)         5772  \n",
       "9  San Francisco Caltrain (Townsend at 4th)         5764  "
      ]
     },
     "execution_count": 5,
     "metadata": {},
     "output_type": "execute_result"
    }
   ],
   "source": [
    "station_pairs_weekdays.head(10)"
   ]
  },
  {
   "cell_type": "code",
   "execution_count": 6,
   "id": "c52b7497",
   "metadata": {},
   "outputs": [
    {
     "data": {
      "text/html": [
       "<div>\n",
       "<style scoped>\n",
       "    .dataframe tbody tr th:only-of-type {\n",
       "        vertical-align: middle;\n",
       "    }\n",
       "\n",
       "    .dataframe tbody tr th {\n",
       "        vertical-align: top;\n",
       "    }\n",
       "\n",
       "    .dataframe thead th {\n",
       "        text-align: right;\n",
       "    }\n",
       "</style>\n",
       "<table border=\"1\" class=\"dataframe\">\n",
       "  <thead>\n",
       "    <tr style=\"text-align: right;\">\n",
       "      <th></th>\n",
       "      <th>start_station_name</th>\n",
       "      <th>end_station_name</th>\n",
       "      <th>no_of_trips</th>\n",
       "      <th>station_pairs</th>\n",
       "    </tr>\n",
       "  </thead>\n",
       "  <tbody>\n",
       "    <tr>\n",
       "      <th>0</th>\n",
       "      <td>San Francisco Caltrain 2 (330 Townsend)</td>\n",
       "      <td>Townsend at 7th</td>\n",
       "      <td>8048</td>\n",
       "      <td>San Francisco Caltrain 2 (330 Townsend) --&gt; To...</td>\n",
       "    </tr>\n",
       "    <tr>\n",
       "      <th>1</th>\n",
       "      <td>Harry Bridges Plaza (Ferry Building)</td>\n",
       "      <td>Embarcadero at Sansome</td>\n",
       "      <td>7072</td>\n",
       "      <td>Harry Bridges Plaza (Ferry Building) --&gt; Embar...</td>\n",
       "    </tr>\n",
       "    <tr>\n",
       "      <th>2</th>\n",
       "      <td>2nd at Townsend</td>\n",
       "      <td>Harry Bridges Plaza (Ferry Building)</td>\n",
       "      <td>7043</td>\n",
       "      <td>2nd at Townsend --&gt; Harry Bridges Plaza (Ferry...</td>\n",
       "    </tr>\n",
       "    <tr>\n",
       "      <th>3</th>\n",
       "      <td>Townsend at 7th</td>\n",
       "      <td>San Francisco Caltrain 2 (330 Townsend)</td>\n",
       "      <td>6471</td>\n",
       "      <td>Townsend at 7th --&gt; San Francisco Caltrain 2 (...</td>\n",
       "    </tr>\n",
       "    <tr>\n",
       "      <th>4</th>\n",
       "      <td>Embarcadero at Sansome</td>\n",
       "      <td>Steuart at Market</td>\n",
       "      <td>6419</td>\n",
       "      <td>Embarcadero at Sansome --&gt; Steuart at Market</td>\n",
       "    </tr>\n",
       "  </tbody>\n",
       "</table>\n",
       "</div>"
      ],
      "text/plain": [
       "                        start_station_name  \\\n",
       "0  San Francisco Caltrain 2 (330 Townsend)   \n",
       "1     Harry Bridges Plaza (Ferry Building)   \n",
       "2                          2nd at Townsend   \n",
       "3                          Townsend at 7th   \n",
       "4                   Embarcadero at Sansome   \n",
       "\n",
       "                          end_station_name  no_of_trips  \\\n",
       "0                          Townsend at 7th         8048   \n",
       "1                   Embarcadero at Sansome         7072   \n",
       "2     Harry Bridges Plaza (Ferry Building)         7043   \n",
       "3  San Francisco Caltrain 2 (330 Townsend)         6471   \n",
       "4                        Steuart at Market         6419   \n",
       "\n",
       "                                       station_pairs  \n",
       "0  San Francisco Caltrain 2 (330 Townsend) --> To...  \n",
       "1  Harry Bridges Plaza (Ferry Building) --> Embar...  \n",
       "2  2nd at Townsend --> Harry Bridges Plaza (Ferry...  \n",
       "3  Townsend at 7th --> San Francisco Caltrain 2 (...  \n",
       "4       Embarcadero at Sansome --> Steuart at Market  "
      ]
     },
     "execution_count": 6,
     "metadata": {},
     "output_type": "execute_result"
    }
   ],
   "source": [
    "station_pairs_weekdays[\"station_pairs\"] = station_pairs_weekdays[\"start_station_name\"] + \" --> \" + station_pairs_weekdays[\"end_station_name\"] \n",
    "station_pairs_weekdays.head()"
   ]
  },
  {
   "cell_type": "code",
   "execution_count": 7,
   "id": "210d2840",
   "metadata": {},
   "outputs": [
    {
     "name": "stderr",
     "output_type": "stream",
     "text": [
      "Query complete after 0.00s: 100%|██████████| 1/1 [00:00<00:00, 911.21query/s] \n",
      "Downloading: 100%|██████████| 10/10 [00:01<00:00,  7.37rows/s]\n"
     ]
    }
   ],
   "source": [
    "%%bigquery station_pairs_weekends\n",
    "SELECT start_station_name, end_station_name, count(*) as no_of_trips \n",
    "FROM `bigquery-public-data`.san_francisco.bikeshare_trips\n",
    "WHERE EXTRACT(DAYOFWEEK FROM start_date) IN (1, 7) \n",
    "GROUP BY start_station_name, end_station_name \n",
    "ORDER BY no_of_trips DESC \n",
    "LIMIT 10;\n",
    "\n",
    "#Total number of trips between stations pairs during WEEKENDS"
   ]
  },
  {
   "cell_type": "code",
   "execution_count": 8,
   "id": "64d39af2",
   "metadata": {},
   "outputs": [
    {
     "data": {
      "text/html": [
       "<div>\n",
       "<style scoped>\n",
       "    .dataframe tbody tr th:only-of-type {\n",
       "        vertical-align: middle;\n",
       "    }\n",
       "\n",
       "    .dataframe tbody tr th {\n",
       "        vertical-align: top;\n",
       "    }\n",
       "\n",
       "    .dataframe thead th {\n",
       "        text-align: right;\n",
       "    }\n",
       "</style>\n",
       "<table border=\"1\" class=\"dataframe\">\n",
       "  <thead>\n",
       "    <tr style=\"text-align: right;\">\n",
       "      <th></th>\n",
       "      <th>start_station_name</th>\n",
       "      <th>end_station_name</th>\n",
       "      <th>no_of_trips</th>\n",
       "    </tr>\n",
       "  </thead>\n",
       "  <tbody>\n",
       "    <tr>\n",
       "      <th>0</th>\n",
       "      <td>Harry Bridges Plaza (Ferry Building)</td>\n",
       "      <td>Embarcadero at Sansome</td>\n",
       "      <td>2078</td>\n",
       "    </tr>\n",
       "    <tr>\n",
       "      <th>1</th>\n",
       "      <td>Embarcadero at Sansome</td>\n",
       "      <td>Harry Bridges Plaza (Ferry Building)</td>\n",
       "      <td>1183</td>\n",
       "    </tr>\n",
       "    <tr>\n",
       "      <th>2</th>\n",
       "      <td>Embarcadero at Sansome</td>\n",
       "      <td>Embarcadero at Sansome</td>\n",
       "      <td>1146</td>\n",
       "    </tr>\n",
       "    <tr>\n",
       "      <th>3</th>\n",
       "      <td>Harry Bridges Plaza (Ferry Building)</td>\n",
       "      <td>Harry Bridges Plaza (Ferry Building)</td>\n",
       "      <td>1122</td>\n",
       "    </tr>\n",
       "    <tr>\n",
       "      <th>4</th>\n",
       "      <td>Embarcadero at Bryant</td>\n",
       "      <td>Embarcadero at Sansome</td>\n",
       "      <td>701</td>\n",
       "    </tr>\n",
       "  </tbody>\n",
       "</table>\n",
       "</div>"
      ],
      "text/plain": [
       "                     start_station_name                      end_station_name  \\\n",
       "0  Harry Bridges Plaza (Ferry Building)                Embarcadero at Sansome   \n",
       "1                Embarcadero at Sansome  Harry Bridges Plaza (Ferry Building)   \n",
       "2                Embarcadero at Sansome                Embarcadero at Sansome   \n",
       "3  Harry Bridges Plaza (Ferry Building)  Harry Bridges Plaza (Ferry Building)   \n",
       "4                 Embarcadero at Bryant                Embarcadero at Sansome   \n",
       "\n",
       "   no_of_trips  \n",
       "0         2078  \n",
       "1         1183  \n",
       "2         1146  \n",
       "3         1122  \n",
       "4          701  "
      ]
     },
     "execution_count": 8,
     "metadata": {},
     "output_type": "execute_result"
    }
   ],
   "source": [
    "station_pairs_weekends.head()"
   ]
  },
  {
   "cell_type": "code",
   "execution_count": 9,
   "id": "04edf9fd",
   "metadata": {},
   "outputs": [
    {
     "data": {
      "text/html": [
       "<div>\n",
       "<style scoped>\n",
       "    .dataframe tbody tr th:only-of-type {\n",
       "        vertical-align: middle;\n",
       "    }\n",
       "\n",
       "    .dataframe tbody tr th {\n",
       "        vertical-align: top;\n",
       "    }\n",
       "\n",
       "    .dataframe thead th {\n",
       "        text-align: right;\n",
       "    }\n",
       "</style>\n",
       "<table border=\"1\" class=\"dataframe\">\n",
       "  <thead>\n",
       "    <tr style=\"text-align: right;\">\n",
       "      <th></th>\n",
       "      <th>start_station_name</th>\n",
       "      <th>end_station_name</th>\n",
       "      <th>no_of_trips</th>\n",
       "      <th>station_pairs</th>\n",
       "    </tr>\n",
       "  </thead>\n",
       "  <tbody>\n",
       "    <tr>\n",
       "      <th>0</th>\n",
       "      <td>Harry Bridges Plaza (Ferry Building)</td>\n",
       "      <td>Embarcadero at Sansome</td>\n",
       "      <td>2078</td>\n",
       "      <td>Harry Bridges Plaza (Ferry Building) --&gt; Embar...</td>\n",
       "    </tr>\n",
       "    <tr>\n",
       "      <th>1</th>\n",
       "      <td>Embarcadero at Sansome</td>\n",
       "      <td>Harry Bridges Plaza (Ferry Building)</td>\n",
       "      <td>1183</td>\n",
       "      <td>Embarcadero at Sansome --&gt; Harry Bridges Plaza...</td>\n",
       "    </tr>\n",
       "    <tr>\n",
       "      <th>2</th>\n",
       "      <td>Embarcadero at Sansome</td>\n",
       "      <td>Embarcadero at Sansome</td>\n",
       "      <td>1146</td>\n",
       "      <td>Embarcadero at Sansome --&gt; Embarcadero at Sansome</td>\n",
       "    </tr>\n",
       "    <tr>\n",
       "      <th>3</th>\n",
       "      <td>Harry Bridges Plaza (Ferry Building)</td>\n",
       "      <td>Harry Bridges Plaza (Ferry Building)</td>\n",
       "      <td>1122</td>\n",
       "      <td>Harry Bridges Plaza (Ferry Building) --&gt; Harry...</td>\n",
       "    </tr>\n",
       "    <tr>\n",
       "      <th>4</th>\n",
       "      <td>Embarcadero at Bryant</td>\n",
       "      <td>Embarcadero at Sansome</td>\n",
       "      <td>701</td>\n",
       "      <td>Embarcadero at Bryant --&gt; Embarcadero at Sansome</td>\n",
       "    </tr>\n",
       "  </tbody>\n",
       "</table>\n",
       "</div>"
      ],
      "text/plain": [
       "                     start_station_name                      end_station_name  \\\n",
       "0  Harry Bridges Plaza (Ferry Building)                Embarcadero at Sansome   \n",
       "1                Embarcadero at Sansome  Harry Bridges Plaza (Ferry Building)   \n",
       "2                Embarcadero at Sansome                Embarcadero at Sansome   \n",
       "3  Harry Bridges Plaza (Ferry Building)  Harry Bridges Plaza (Ferry Building)   \n",
       "4                 Embarcadero at Bryant                Embarcadero at Sansome   \n",
       "\n",
       "   no_of_trips                                      station_pairs  \n",
       "0         2078  Harry Bridges Plaza (Ferry Building) --> Embar...  \n",
       "1         1183  Embarcadero at Sansome --> Harry Bridges Plaza...  \n",
       "2         1146  Embarcadero at Sansome --> Embarcadero at Sansome  \n",
       "3         1122  Harry Bridges Plaza (Ferry Building) --> Harry...  \n",
       "4          701   Embarcadero at Bryant --> Embarcadero at Sansome  "
      ]
     },
     "execution_count": 9,
     "metadata": {},
     "output_type": "execute_result"
    }
   ],
   "source": [
    "station_pairs_weekends[\"station_pairs\"] = station_pairs_weekends[\"start_station_name\"] + \" --> \" + station_pairs_weekends[\"end_station_name\"] \n",
    "station_pairs_weekends.head()"
   ]
  },
  {
   "cell_type": "markdown",
   "id": "cc569dea",
   "metadata": {},
   "source": [
    "Let's see the difference in graphical format. "
   ]
  },
  {
   "cell_type": "code",
   "execution_count": 10,
   "id": "0390d362",
   "metadata": {},
   "outputs": [
    {
     "data": {
      "image/png": "[encoded data removed]",
      "text/plain": [
       "<Figure size 1440x288 with 2 Axes>"
      ]
     },
     "metadata": {
      "needs_background": "light"
     },
     "output_type": "display_data"
    }
   ],
   "source": [
    "fig, (ax1,ax2) = plt.subplots(1,2, figsize=(20,4))\n",
    "\n",
    "station_pairs_weekdays.plot(kind=\"bar\", x=\"station_pairs\", y=\"no_of_trips\", title = \"Weekdays\", ax=ax1)\n",
    "\n",
    "\n",
    "station_pairs_weekends.plot(kind=\"bar\", x=\"station_pairs\", y=\"no_of_trips\", title = \"Weekends\", ax=ax2)\n",
    "pass"
   ]
  },
  {
   "cell_type": "markdown",
   "id": "fe35a92a",
   "metadata": {},
   "source": [
    "## First Question Discussion"
   ]
  },
  {
   "cell_type": "markdown",
   "id": "54c45a6c",
   "metadata": {},
   "source": [
    "Based on my data analysis from above, below are my findings.\n",
    "\n",
    "1-The top 5 station pairs with the most number of trips during WEEKDAYS are the following \n",
    "- San Francisco Caltrain 2 (330 Townsend) --> Townsend at 7th\n",
    "- Harry Bridges Plaza (Ferry Building)    --> Embarcadero at Sansome\n",
    "- 2nd at Townsend                         --> Harry Bridges Plaza (Ferry Building)\n",
    "- Townsend at 7th                         --> San Francisco Caltrain 2 (330 Townsend)\n",
    "- Embarcadero at Sansome                  --> Steuart at Market\n",
    "\n",
    "\n",
    "2-The top 5 station pairs with the most number of trips during WEEKEENDS are the following \n",
    "- Harry Bridges Plaza (Ferry Building) --> Embarcadero at Sansome\n",
    "- Embarcadero at Sansome --> Harry Bridges Plaza (Ferry Building)\n",
    "- Embarcadero at Sansome --> Embarcadero at Sansome\n",
    "- Harry Bridges Plaza (Ferry Building) --> Harry Bridges Plaza (Ferry Building)\n",
    "- Embarcadero at Bryant --> Embarcadero at Sansome\n",
    "\n",
    "Most of the trips happend between station pairs that are located in San Francisco, which makes sense given that 37 stations in our dataset are located in San Francisco. Furthermore, looking at the number of trips, locations, and the graphs above, I believe that the most number of trips during weekdays are mainly for commuter purposes. The justification being that the station pairs that are prominent during weekdays have much fewer trips during weekends. Although some stations do show up for both weekends and weekdays, the explanation for that is the fact that those stations are at the hub of San Francisco, therefore, they will still be used during weekends.\n",
    "\n",
    "Another interesting fact from the graphs shows us that some of the station pairs start and end at the same station for weekends that may indicate that they are being used for leisure purposes. On the other hand, the station pairs San Francisco Caltrain 2 (330 Townsend) and Townsend at 7th show commute both ways which furhter points to it being a commuter route. \n",
    "\n",
    "Considering everything above, it is safe to say that the top 5 station pairs during weekdays are primarily used for commuter purposes.  "
   ]
  },
  {
   "cell_type": "markdown",
   "id": "a504f1f8",
   "metadata": {},
   "source": [
    "## Second Part"
   ]
  },
  {
   "cell_type": "markdown",
   "id": "cb167bc3",
   "metadata": {},
   "source": [
    "First, I wanted to see how many tirps occur during weekdays vs weekends. I found the following "
   ]
  },
  {
   "cell_type": "code",
   "execution_count": 15,
   "id": "4569c074",
   "metadata": {},
   "outputs": [
    {
     "name": "stderr",
     "output_type": "stream",
     "text": [
      "Query complete after 0.00s: 100%|██████████| 1/1 [00:00<00:00, 1036.40query/s]\n",
      "Downloading: 100%|██████████| 1/1 [00:01<00:00,  1.69s/rows]\n"
     ]
    },
    {
     "data": {
      "text/html": [
       "<div>\n",
       "<style scoped>\n",
       "    .dataframe tbody tr th:only-of-type {\n",
       "        vertical-align: middle;\n",
       "    }\n",
       "\n",
       "    .dataframe tbody tr th {\n",
       "        vertical-align: top;\n",
       "    }\n",
       "\n",
       "    .dataframe thead th {\n",
       "        text-align: right;\n",
       "    }\n",
       "</style>\n",
       "<table border=\"1\" class=\"dataframe\">\n",
       "  <thead>\n",
       "    <tr style=\"text-align: right;\">\n",
       "      <th></th>\n",
       "      <th>f0_</th>\n",
       "    </tr>\n",
       "  </thead>\n",
       "  <tbody>\n",
       "    <tr>\n",
       "      <th>0</th>\n",
       "      <td>871994</td>\n",
       "    </tr>\n",
       "  </tbody>\n",
       "</table>\n",
       "</div>"
      ],
      "text/plain": [
       "      f0_\n",
       "0  871994"
      ]
     },
     "execution_count": 15,
     "metadata": {},
     "output_type": "execute_result"
    }
   ],
   "source": [
    "%%bigquery \n",
    "SELECT COUNT(subscriber_type)\n",
    "FROM `bigquery-public-data.san_francisco.bikeshare_trips` \n",
    "WHERE EXTRACT(DAYOFWEEK FROM start_date) NOT IN (1, 7) \n",
    "\n",
    "#The number of trips during WEEKDAYS is 871,994 trips. \n"
   ]
  },
  {
   "cell_type": "code",
   "execution_count": 12,
   "id": "85fc5f6c",
   "metadata": {},
   "outputs": [
    {
     "name": "stderr",
     "output_type": "stream",
     "text": [
      "Query complete after 0.00s: 100%|██████████| 1/1 [00:00<00:00, 1095.40query/s]\n",
      "Downloading: 100%|██████████| 1/1 [00:01<00:00,  1.72s/rows]\n"
     ]
    },
    {
     "data": {
      "text/html": [
       "<div>\n",
       "<style scoped>\n",
       "    .dataframe tbody tr th:only-of-type {\n",
       "        vertical-align: middle;\n",
       "    }\n",
       "\n",
       "    .dataframe tbody tr th {\n",
       "        vertical-align: top;\n",
       "    }\n",
       "\n",
       "    .dataframe thead th {\n",
       "        text-align: right;\n",
       "    }\n",
       "</style>\n",
       "<table border=\"1\" class=\"dataframe\">\n",
       "  <thead>\n",
       "    <tr style=\"text-align: right;\">\n",
       "      <th></th>\n",
       "      <th>f0_</th>\n",
       "    </tr>\n",
       "  </thead>\n",
       "  <tbody>\n",
       "    <tr>\n",
       "      <th>0</th>\n",
       "      <td>111654</td>\n",
       "    </tr>\n",
       "  </tbody>\n",
       "</table>\n",
       "</div>"
      ],
      "text/plain": [
       "      f0_\n",
       "0  111654"
      ]
     },
     "execution_count": 12,
     "metadata": {},
     "output_type": "execute_result"
    }
   ],
   "source": [
    "%%bigquery \n",
    "\n",
    "SELECT COUNT(subscriber_type), \n",
    "FROM `bigquery-public-data.san_francisco.bikeshare_trips` \n",
    "WHERE EXTRACT(DAYOFWEEK FROM start_date) IN (1, 7) \n",
    "\n",
    "#The number of trips during WEEKENDS is 111,654 trips"
   ]
  },
  {
   "cell_type": "markdown",
   "id": "2863a41b",
   "metadata": {},
   "source": [
    "We can see that the number of trips taken during weekdays is considerably higher compared to weekends.\\\n",
    "Next, I wanted to see the number of trips during rush hours (I defined the rush hour being between the peak commuting hours which are from 6:00 am to 9:00 am and 4:00 pm to 6:00 pm)"
   ]
  },
  {
   "cell_type": "code",
   "execution_count": 16,
   "id": "cb9a5f52",
   "metadata": {},
   "outputs": [
    {
     "name": "stderr",
     "output_type": "stream",
     "text": [
      "Query complete after 0.00s: 100%|██████████| 2/2 [00:00<00:00, 1215.39query/s]                        \n",
      "Downloading: 100%|██████████| 1/1 [00:01<00:00,  1.38s/rows]\n"
     ]
    },
    {
     "data": {
      "text/html": [
       "<div>\n",
       "<style scoped>\n",
       "    .dataframe tbody tr th:only-of-type {\n",
       "        vertical-align: middle;\n",
       "    }\n",
       "\n",
       "    .dataframe tbody tr th {\n",
       "        vertical-align: top;\n",
       "    }\n",
       "\n",
       "    .dataframe thead th {\n",
       "        text-align: right;\n",
       "    }\n",
       "</style>\n",
       "<table border=\"1\" class=\"dataframe\">\n",
       "  <thead>\n",
       "    <tr style=\"text-align: right;\">\n",
       "      <th></th>\n",
       "      <th>f0_</th>\n",
       "    </tr>\n",
       "  </thead>\n",
       "  <tbody>\n",
       "    <tr>\n",
       "      <th>0</th>\n",
       "      <td>580513</td>\n",
       "    </tr>\n",
       "  </tbody>\n",
       "</table>\n",
       "</div>"
      ],
      "text/plain": [
       "      f0_\n",
       "0  580513"
      ]
     },
     "execution_count": 16,
     "metadata": {},
     "output_type": "execute_result"
    }
   ],
   "source": [
    "%%bigquery\n",
    "SELECT COUNT(subscriber_type), \n",
    "FROM `bigquery-public-data.san_francisco.bikeshare_trips` \n",
    "WHERE EXTRACT(DAYOFWEEK FROM start_date) NOT IN (1, 7) and (\n",
    "(EXTRACT(HOUR FROM start_date) >= 6 and EXTRACT(HOUR FROM start_date) <= 9) \n",
    "OR (EXTRACT(HOUR FROM start_date) >= 16 and EXTRACT(HOUR FROM start_date) <= 18))\n",
    "\n",
    "# We can see that there are 580,513 trips during rush hour alone. "
   ]
  },
  {
   "cell_type": "markdown",
   "id": "379bc7ad",
   "metadata": {},
   "source": [
    "After finding out the number of trips during rush hours, I wanted to see how many trips are taken by customers and subscribers during the rush hours to gain some insight. "
   ]
  },
  {
   "cell_type": "code",
   "execution_count": 17,
   "id": "145cd61d",
   "metadata": {},
   "outputs": [
    {
     "name": "stderr",
     "output_type": "stream",
     "text": [
      "Query complete after 0.00s: 100%|██████████| 2/2 [00:00<00:00, 1231.63query/s]                        \n",
      "Downloading: 100%|██████████| 1/1 [00:01<00:00,  1.39s/rows]\n"
     ]
    },
    {
     "data": {
      "text/html": [
       "<div>\n",
       "<style scoped>\n",
       "    .dataframe tbody tr th:only-of-type {\n",
       "        vertical-align: middle;\n",
       "    }\n",
       "\n",
       "    .dataframe tbody tr th {\n",
       "        vertical-align: top;\n",
       "    }\n",
       "\n",
       "    .dataframe thead th {\n",
       "        text-align: right;\n",
       "    }\n",
       "</style>\n",
       "<table border=\"1\" class=\"dataframe\">\n",
       "  <thead>\n",
       "    <tr style=\"text-align: right;\">\n",
       "      <th></th>\n",
       "      <th>f0_</th>\n",
       "    </tr>\n",
       "  </thead>\n",
       "  <tbody>\n",
       "    <tr>\n",
       "      <th>0</th>\n",
       "      <td>31526</td>\n",
       "    </tr>\n",
       "  </tbody>\n",
       "</table>\n",
       "</div>"
      ],
      "text/plain": [
       "     f0_\n",
       "0  31526"
      ]
     },
     "execution_count": 17,
     "metadata": {},
     "output_type": "execute_result"
    }
   ],
   "source": [
    "%%bigquery\n",
    "SELECT COUNT(*), \n",
    "FROM `bigquery-public-data.san_francisco.bikeshare_trips` \n",
    "WHERE subscriber_type = \"Customer\" and \n",
    "EXTRACT(DAYOFWEEK FROM start_date) NOT IN (1, 7) and (\n",
    "(EXTRACT(HOUR FROM start_date) >= 6 and EXTRACT(HOUR FROM start_date) <= 9) \n",
    "OR (EXTRACT(HOUR FROM start_date) >= 16 and EXTRACT(HOUR FROM start_date) <= 18))\n",
    "\n",
    "# We can see that there are about 31,526 trips are taken by our customers "
   ]
  },
  {
   "cell_type": "code",
   "execution_count": 19,
   "id": "74513a18",
   "metadata": {},
   "outputs": [
    {
     "name": "stderr",
     "output_type": "stream",
     "text": [
      "Query complete after 0.00s: 100%|██████████| 2/2 [00:00<00:00, 1040.90query/s]                        \n",
      "Downloading: 100%|██████████| 1/1 [00:01<00:00,  1.46s/rows]\n"
     ]
    },
    {
     "data": {
      "text/html": [
       "<div>\n",
       "<style scoped>\n",
       "    .dataframe tbody tr th:only-of-type {\n",
       "        vertical-align: middle;\n",
       "    }\n",
       "\n",
       "    .dataframe tbody tr th {\n",
       "        vertical-align: top;\n",
       "    }\n",
       "\n",
       "    .dataframe thead th {\n",
       "        text-align: right;\n",
       "    }\n",
       "</style>\n",
       "<table border=\"1\" class=\"dataframe\">\n",
       "  <thead>\n",
       "    <tr style=\"text-align: right;\">\n",
       "      <th></th>\n",
       "      <th>f0_</th>\n",
       "    </tr>\n",
       "  </thead>\n",
       "  <tbody>\n",
       "    <tr>\n",
       "      <th>0</th>\n",
       "      <td>548987</td>\n",
       "    </tr>\n",
       "  </tbody>\n",
       "</table>\n",
       "</div>"
      ],
      "text/plain": [
       "      f0_\n",
       "0  548987"
      ]
     },
     "execution_count": 19,
     "metadata": {},
     "output_type": "execute_result"
    }
   ],
   "source": [
    "%%bigquery\n",
    "SELECT COUNT(*), \n",
    "FROM `bigquery-public-data.san_francisco.bikeshare_trips` \n",
    "WHERE subscriber_type = \"Subscriber\" and \n",
    "EXTRACT(DAYOFWEEK FROM start_date) NOT IN (1, 7) and (\n",
    "(EXTRACT(HOUR FROM start_date) >= 6 and EXTRACT(HOUR FROM start_date) <= 9) \n",
    "OR (EXTRACT(HOUR FROM start_date) >= 16 and EXTRACT(HOUR FROM start_date) <= 18))\n",
    "\n",
    "# We can see that there are about 548,987 trips are taken by our subscribers "
   ]
  },
  {
   "cell_type": "markdown",
   "id": "efdd7e9b",
   "metadata": {},
   "source": [
    "Based on the resutls above, we can see that the most trips taken by people taken during rush hours on weekdays is by our subscribers.\\\n",
    "After gaining valuable insight from above, next, I wanted to see what is the average trip time between customers and subscribers overall. To do this, I included the trips that DO NOT exceed 24 hours to get rid of outliers not to sku my results. "
   ]
  },
  {
   "cell_type": "code",
   "execution_count": 25,
   "id": "032149f7",
   "metadata": {},
   "outputs": [
    {
     "name": "stderr",
     "output_type": "stream",
     "text": [
      "Query complete after 0.00s: 100%|██████████| 2/2 [00:00<00:00, 1341.96query/s]                        \n",
      "Downloading: 100%|██████████| 1/1 [00:01<00:00,  1.36s/rows]\n"
     ]
    },
    {
     "data": {
      "text/html": [
       "<div>\n",
       "<style scoped>\n",
       "    .dataframe tbody tr th:only-of-type {\n",
       "        vertical-align: middle;\n",
       "    }\n",
       "\n",
       "    .dataframe tbody tr th {\n",
       "        vertical-align: top;\n",
       "    }\n",
       "\n",
       "    .dataframe thead th {\n",
       "        text-align: right;\n",
       "    }\n",
       "</style>\n",
       "<table border=\"1\" class=\"dataframe\">\n",
       "  <thead>\n",
       "    <tr style=\"text-align: right;\">\n",
       "      <th></th>\n",
       "      <th>f0_</th>\n",
       "    </tr>\n",
       "  </thead>\n",
       "  <tbody>\n",
       "    <tr>\n",
       "      <th>0</th>\n",
       "      <td>296</td>\n",
       "    </tr>\n",
       "  </tbody>\n",
       "</table>\n",
       "</div>"
      ],
      "text/plain": [
       "   f0_\n",
       "0  296"
      ]
     },
     "execution_count": 25,
     "metadata": {},
     "output_type": "execute_result"
    }
   ],
   "source": [
    "%%bigquery\n",
    "SELECT count(duration_sec)\n",
    "FROM `bigquery-public-data`.san_francisco.bikeshare_trips\n",
    "WHERE duration_sec > 86400\n",
    "\n",
    "# number of trips that exceed 100,000 are 296 "
   ]
  },
  {
   "cell_type": "code",
   "execution_count": 24,
   "id": "9ff1165a",
   "metadata": {},
   "outputs": [
    {
     "name": "stderr",
     "output_type": "stream",
     "text": [
      "Query complete after 0.00s: 100%|██████████| 2/2 [00:00<00:00, 1199.74query/s]                        \n",
      "Downloading: 100%|██████████| 1/1 [00:01<00:00,  1.31s/rows]\n"
     ]
    },
    {
     "data": {
      "text/html": [
       "<div>\n",
       "<style scoped>\n",
       "    .dataframe tbody tr th:only-of-type {\n",
       "        vertical-align: middle;\n",
       "    }\n",
       "\n",
       "    .dataframe tbody tr th {\n",
       "        vertical-align: top;\n",
       "    }\n",
       "\n",
       "    .dataframe thead th {\n",
       "        text-align: right;\n",
       "    }\n",
       "</style>\n",
       "<table border=\"1\" class=\"dataframe\">\n",
       "  <thead>\n",
       "    <tr style=\"text-align: right;\">\n",
       "      <th></th>\n",
       "      <th>f0_</th>\n",
       "    </tr>\n",
       "  </thead>\n",
       "  <tbody>\n",
       "    <tr>\n",
       "      <th>0</th>\n",
       "      <td>4</td>\n",
       "    </tr>\n",
       "  </tbody>\n",
       "</table>\n",
       "</div>"
      ],
      "text/plain": [
       "   f0_\n",
       "0    4"
      ]
     },
     "execution_count": 24,
     "metadata": {},
     "output_type": "execute_result"
    }
   ],
   "source": [
    "%%bigquery\n",
    "SELECT count(duration_sec)\n",
    "FROM `bigquery-public-data`.san_francisco.bikeshare_trips\n",
    "WHERE duration_sec > 1000000\n",
    "\n",
    "# number of trips that exceed 1000,000 are 4"
   ]
  },
  {
   "cell_type": "code",
   "execution_count": 20,
   "id": "768f91f5",
   "metadata": {},
   "outputs": [
    {
     "name": "stderr",
     "output_type": "stream",
     "text": [
      "Query complete after 0.00s: 100%|██████████| 2/2 [00:00<00:00, 1167.52query/s]                        \n",
      "Downloading: 100%|██████████| 2/2 [00:02<00:00,  1.23s/rows]\n"
     ]
    },
    {
     "data": {
      "text/html": [
       "<div>\n",
       "<style scoped>\n",
       "    .dataframe tbody tr th:only-of-type {\n",
       "        vertical-align: middle;\n",
       "    }\n",
       "\n",
       "    .dataframe tbody tr th {\n",
       "        vertical-align: top;\n",
       "    }\n",
       "\n",
       "    .dataframe thead th {\n",
       "        text-align: right;\n",
       "    }\n",
       "</style>\n",
       "<table border=\"1\" class=\"dataframe\">\n",
       "  <thead>\n",
       "    <tr style=\"text-align: right;\">\n",
       "      <th></th>\n",
       "      <th>subscriber_type</th>\n",
       "      <th>average_trip_time_in_min</th>\n",
       "    </tr>\n",
       "  </thead>\n",
       "  <tbody>\n",
       "    <tr>\n",
       "      <th>0</th>\n",
       "      <td>Customer</td>\n",
       "      <td>53.483072</td>\n",
       "    </tr>\n",
       "    <tr>\n",
       "      <th>1</th>\n",
       "      <td>Subscriber</td>\n",
       "      <td>9.505266</td>\n",
       "    </tr>\n",
       "  </tbody>\n",
       "</table>\n",
       "</div>"
      ],
      "text/plain": [
       "  subscriber_type  average_trip_time_in_min\n",
       "0        Customer                 53.483072\n",
       "1      Subscriber                  9.505266"
      ]
     },
     "execution_count": 20,
     "metadata": {},
     "output_type": "execute_result"
    }
   ],
   "source": [
    "%%bigquery\n",
    "SELECT subscriber_type, AVG(duration_sec)/60 as average_trip_time_in_min\n",
    "FROM `bigquery-public-data`.san_francisco.bikeshare_trips\n",
    "WHERE duration_sec < 86400\n",
    "GROUP BY subscriber_type\n"
   ]
  },
  {
   "cell_type": "markdown",
   "id": "92ab7910",
   "metadata": {},
   "source": [
    "Based on the table above, we can clearly see that on average CUSTOMERS ride our bikes for about 53.48 mins compared to SUBSCRIBERS that ride our bikes for about 9.5 mins. This is a big difference. "
   ]
  },
  {
   "cell_type": "markdown",
   "id": "9284e73b",
   "metadata": {},
   "source": [
    "One more thing, I wanted to see is how many customers and how many subscribers do we have. "
   ]
  },
  {
   "cell_type": "code",
   "execution_count": 28,
   "id": "ce1763eb",
   "metadata": {},
   "outputs": [
    {
     "name": "stderr",
     "output_type": "stream",
     "text": [
      "Query complete after 0.00s: 100%|██████████| 2/2 [00:00<00:00, 1179.50query/s]                        \n",
      "Downloading: 100%|██████████| 1/1 [00:01<00:00,  1.37s/rows]\n"
     ]
    },
    {
     "data": {
      "text/html": [
       "<div>\n",
       "<style scoped>\n",
       "    .dataframe tbody tr th:only-of-type {\n",
       "        vertical-align: middle;\n",
       "    }\n",
       "\n",
       "    .dataframe tbody tr th {\n",
       "        vertical-align: top;\n",
       "    }\n",
       "\n",
       "    .dataframe thead th {\n",
       "        text-align: right;\n",
       "    }\n",
       "</style>\n",
       "<table border=\"1\" class=\"dataframe\">\n",
       "  <thead>\n",
       "    <tr style=\"text-align: right;\">\n",
       "      <th></th>\n",
       "      <th>f0_</th>\n",
       "    </tr>\n",
       "  </thead>\n",
       "  <tbody>\n",
       "    <tr>\n",
       "      <th>0</th>\n",
       "      <td>136809</td>\n",
       "    </tr>\n",
       "  </tbody>\n",
       "</table>\n",
       "</div>"
      ],
      "text/plain": [
       "      f0_\n",
       "0  136809"
      ]
     },
     "execution_count": 28,
     "metadata": {},
     "output_type": "execute_result"
    }
   ],
   "source": [
    "%%bigquery\n",
    "SELECT count(subscriber_type)\n",
    "FROM `bigquery-public-data`.san_francisco.bikeshare_trips\n",
    "WHERE subscriber_type = 'Customer'\n",
    "\n",
    "# we have 136,809 customers "
   ]
  },
  {
   "cell_type": "code",
   "execution_count": 29,
   "id": "10e3135e",
   "metadata": {},
   "outputs": [
    {
     "name": "stderr",
     "output_type": "stream",
     "text": [
      "Query complete after 0.00s: 100%|██████████| 2/2 [00:00<00:00, 1074.22query/s]                        \n",
      "Downloading: 100%|██████████| 1/1 [00:02<00:00,  2.35s/rows]\n"
     ]
    },
    {
     "data": {
      "text/html": [
       "<div>\n",
       "<style scoped>\n",
       "    .dataframe tbody tr th:only-of-type {\n",
       "        vertical-align: middle;\n",
       "    }\n",
       "\n",
       "    .dataframe tbody tr th {\n",
       "        vertical-align: top;\n",
       "    }\n",
       "\n",
       "    .dataframe thead th {\n",
       "        text-align: right;\n",
       "    }\n",
       "</style>\n",
       "<table border=\"1\" class=\"dataframe\">\n",
       "  <thead>\n",
       "    <tr style=\"text-align: right;\">\n",
       "      <th></th>\n",
       "      <th>f0_</th>\n",
       "    </tr>\n",
       "  </thead>\n",
       "  <tbody>\n",
       "    <tr>\n",
       "      <th>0</th>\n",
       "      <td>846839</td>\n",
       "    </tr>\n",
       "  </tbody>\n",
       "</table>\n",
       "</div>"
      ],
      "text/plain": [
       "      f0_\n",
       "0  846839"
      ]
     },
     "execution_count": 29,
     "metadata": {},
     "output_type": "execute_result"
    }
   ],
   "source": [
    "%%bigquery\n",
    "SELECT count(subscriber_type)\n",
    "FROM `bigquery-public-data`.san_francisco.bikeshare_trips\n",
    "WHERE subscriber_type = 'Subscriber'\n",
    "\n",
    "#We have 846,839 subscribers. "
   ]
  },
  {
   "cell_type": "markdown",
   "id": "a98e1d60",
   "metadata": {},
   "source": [
    "## Second Question Discussion"
   ]
  },
  {
   "cell_type": "markdown",
   "id": "2a8abac2",
   "metadata": {},
   "source": [
    "The current perks that are offered by subscribers(members) are the following. "
   ]
  },
  {
   "cell_type": "markdown",
   "id": "a2ea283c",
   "metadata": {},
   "source": [
    "A. No $3 unlocking fees "
   ]
  },
  {
   "cell_type": "markdown",
   "id": "f4093ad2",
   "metadata": {},
   "source": [
    "B. Save 33% per ebike minute compared to non-sbuscribers."
   ]
  },
  {
   "cell_type": "markdown",
   "id": "9a8f7ae0",
   "metadata": {},
   "source": [
    "C. $13/month for unlimited 45-minute classic rides"
   ]
  },
  {
   "cell_type": "markdown",
   "id": "1626fcfd",
   "metadata": {},
   "source": [
    "After our analysis, these are our findings:\n",
    "- 88.64% of the trips happen during weekdays \n",
    "- 59.01% of the trips happend during rush hours of weekdays (Mon-Friday 6:00 am to 9:00 am and 4:00 pm to 6:00 pm)\n",
    "- Of all the rush hour trips, 94.5% of the trips are performed by subscribers. \n",
    "- Subscribers(members), however, spend close to 9.5 mins/trip while customers(non-members) spend close 53.48 mins/trip\n",
    "\n",
    "\n",
    "I see a lot of opporunities to convert our non-members to members. This will have two benefits\n",
    "- It will create recurring revenues. \n",
    "- Since customers' ride last for about 53.48 mins/trip, they may be willing to subscribe for our monthy membership and save money. On top of that, they will save $3 for each unlock. \n",
    "\n",
    "To increase the incentive for our customers to convert to members, I would like to propose aggressive marketting in the following key stations because of heavy traffic based on our results.\n",
    "\n",
    "- San Francisco Caltrain 2 (330 Townsend)\n",
    "- Harry Bridges Plaza (Ferry Building)\n",
    "- Embarcadero at Sansome\n",
    "- Townsend at 7th\n",
    "- 2nd at Townsend\n",
    "\n",
    "Furthermore, I suggest lifting the limitations for \"Bike Share for All\" program for a short period of time to increase the incentive for non-members to sign up for a membership. We should put much more focus on non-members for now because of ride-time/trip. Furthermore, having more marketting exposure in key stations might increase overall membership count during rush hours. "
   ]
  },
  {
   "cell_type": "code",
   "execution_count": null,
   "id": "adc39fd0",
   "metadata": {},
   "outputs": [],
   "source": []
  }
 ],
 "metadata": {
  "environment": {
   "name": "common-cpu.m78",
   "type": "gcloud",
   "uri": "gcr.io/deeplearning-platform-release/base-cpu:m78"
  },
  "kernelspec": {
   "display_name": "Python 3",
   "language": "python",
   "name": "python3"
  },
  "language_info": {
   "codemirror_mode": {
    "name": "ipython",
    "version": 3
   },
   "file_extension": ".py",
   "mimetype": "text/x-python",
   "name": "python",
   "nbconvert_exporter": "python",
   "pygments_lexer": "ipython3",
   "version": "3.7.10"
  }
 },
 "nbformat": 4,
 "nbformat_minor": 5
}
